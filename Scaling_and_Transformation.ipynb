{
 "cells": [
  {
   "cell_type": "code",
   "execution_count": 11,
   "id": "4c732fc2-dabd-4a86-b2fe-b8b162b56b30",
   "metadata": {},
   "outputs": [],
   "source": [
    "\n",
    "import pandas as pd\n"
   ]
  },
  {
   "cell_type": "code",
   "execution_count": 12,
   "id": "751b674a-7ecb-41ab-9364-d9a611b8c0eb",
   "metadata": {},
   "outputs": [],
   "source": [
    "\n",
    "data = {\n",
    "    'Feature1': [100, 200, 300, 400, 500],\n",
    "    'Feature2': [1, 2, 3, 4, 5],\n",
    "    'Feature3': [50, 60, 70, 80, 90]\n",
    "}\n"
   ]
  },
  {
   "cell_type": "code",
   "execution_count": 13,
   "id": "090b62aa-4413-4726-bfc0-546ed72a033b",
   "metadata": {},
   "outputs": [],
   "source": [
    "\n",
    "df = pd.DataFrame(data)\n"
   ]
  },
  {
   "cell_type": "code",
   "execution_count": 14,
   "id": "4c3b9bfd-3bc7-43d4-849f-5419ac119958",
   "metadata": {},
   "outputs": [],
   "source": [
    "\n",
    "from sklearn.preprocessing import StandardScaler, MinMaxScaler, RobustScaler, PowerTransformer, QuantileTransformer\n"
   ]
  },
  {
   "cell_type": "code",
   "execution_count": null,
   "id": "13303eec-a980-49d3-9ef7-914f21c950ce",
   "metadata": {},
   "outputs": [],
   "source": []
  },
  {
   "cell_type": "code",
   "execution_count": 15,
   "id": "62e99561-087f-4462-afb8-fe2fc334854f",
   "metadata": {},
   "outputs": [
    {
     "name": "stdout",
     "output_type": "stream",
     "text": [
      "   Feature1  Feature2  Feature3\n",
      "0 -1.414214 -1.414214 -1.414214\n",
      "1 -0.707107 -0.707107 -0.707107\n",
      "2  0.000000  0.000000  0.000000\n",
      "3  0.707107  0.707107  0.707107\n",
      "4  1.414214  1.414214  1.414214\n",
      "   Feature1  Feature2  Feature3\n",
      "0      0.00      0.00      0.00\n",
      "1      0.25      0.25      0.25\n",
      "2      0.50      0.50      0.50\n",
      "3      0.75      0.75      0.75\n",
      "4      1.00      1.00      1.00\n",
      "   Feature1  Feature2  Feature3\n",
      "0      -1.0      -1.0      -1.0\n",
      "1      -0.5      -0.5      -0.5\n",
      "2       0.0       0.0       0.0\n",
      "3       0.5       0.5       0.5\n",
      "4       1.0       1.0       1.0\n"
     ]
    }
   ],
   "source": [
    "\n",
    "scaler = StandardScaler()\n",
    "df_scaler = pd.DataFrame(scaler.fit_transform(df), columns= df.columns)\n",
    "print(df_scaler)\n",
    "\n",
    "min_max = MinMaxScaler()\n",
    "df_minmax = pd.DataFrame(min_max.fit_transform(df), columns= df.columns)\n",
    "print(df_minmax)\n",
    "\n",
    "robust = RobustScaler()\n",
    "df_robust =  pd.DataFrame(robust.fit_transform(df), columns= df.columns)\n",
    "print(df_robust)\n",
    "\n",
    "power_transformer=  PowerTransformer(method= 'yeo-johnson')\n",
    "df_power_transformer = pd.DataFrame(power_transformer.fit_transform(df), columns= df.columns)\n"
   ]
  },
  {
   "cell_type": "code",
   "execution_count": 16,
   "id": "5e708404-ac3a-4703-97de-b279f2d39204",
   "metadata": {},
   "outputs": [
    {
     "name": "stdout",
     "output_type": "stream",
     "text": [
      "\n",
      "Power Transformed Data:\n",
      "   Feature1  Feature2  Feature3\n",
      "0 -1.500778 -1.472976 -1.444739\n",
      "1 -0.647010 -0.669761 -0.689653\n",
      "2  0.078865  0.055343  0.029682\n",
      "3  0.732301  0.727399  0.719696\n",
      "4  1.336622  1.359996  1.385015\n"
     ]
    }
   ],
   "source": [
    "\n",
    "print(\"\\nPower Transformed Data:\")\n",
    "\n",
    "print(df_power_transformer)\n"
   ]
  }
 ],
 "metadata": {
  "kernelspec": {
   "display_name": "Python 3 (ipykernel)",
   "language": "python",
   "name": "python3"
  },
  "language_info": {
   "codemirror_mode": {
    "name": "ipython",
    "version": 3
   },
   "file_extension": ".py",
   "mimetype": "text/x-python",
   "name": "python",
   "nbconvert_exporter": "python",
   "pygments_lexer": "ipython3",
   "version": "3.12.7"
  }
 },
 "nbformat": 4,
 "nbformat_minor": 5
}
